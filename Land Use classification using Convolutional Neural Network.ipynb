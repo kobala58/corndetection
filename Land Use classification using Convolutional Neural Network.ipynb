{
 "cells": [
  {
   "cell_type": "code",
   "execution_count": 1,
   "id": "6dfca6f0-2658-489e-b0f5-47856cceccad",
   "metadata": {
    "tags": []
   },
   "outputs": [
    {
     "name": "stderr",
     "output_type": "stream",
     "text": [
      "2023-05-05 19:06:49.244022: I tensorflow/tsl/cuda/cudart_stub.cc:28] Could not find cuda drivers on your machine, GPU will not be used.\n",
      "2023-05-05 19:06:49.497501: I tensorflow/tsl/cuda/cudart_stub.cc:28] Could not find cuda drivers on your machine, GPU will not be used.\n",
      "2023-05-05 19:06:49.498461: I tensorflow/core/platform/cpu_feature_guard.cc:182] This TensorFlow binary is optimized to use available CPU instructions in performance-critical operations.\n",
      "To enable the following instructions: AVX2 FMA, in other operations, rebuild TensorFlow with the appropriate compiler flags.\n",
      "2023-05-05 19:06:50.514130: W tensorflow/compiler/tf2tensorrt/utils/py_utils.cc:38] TF-TRT Warning: Could not find TensorRT\n"
     ]
    }
   ],
   "source": [
    "from PIL import Image #import Python Image Library\n",
    "import numpy as np\n",
    "import os\n",
    "import glob\n",
    "import re\n",
    "import keras\n",
    "from keras.models import Sequential\n",
    "from keras.layers import Dense, Dropout, Activation, Flatten\n",
    "from keras.layers import Conv2D, MaxPooling2D\n",
    "from keras.utils import np_utils\n",
    "from keras import backend as K"
   ]
  },
  {
   "cell_type": "code",
   "execution_count": 62,
   "id": "a0428d05-ccbf-4fc6-957e-a148544c575b",
   "metadata": {
    "tags": []
   },
   "outputs": [],
   "source": [
    "x_train = []\n",
    "y_train = []\n",
    "\n",
    "x_test = []\n",
    "y_test = []\n",
    "\n",
    "\n",
    "for x in [\"corn\", \"damaged\", \"no_corn\"]:\n",
    "    cnt = 0\n",
    "    label = 0\n",
    "    for pic in glob.glob(f\"./classes/{x}/*.tif\"):\n",
    "        im = Image.open(pic)\n",
    "        im = np.array(im)\n",
    "        if (im.shape[0] == 100) and (im.shape[1] == 100):\n",
    "            r = im[:, :, 0]\n",
    "            g = im[:, :, 1]\n",
    "            b = im[:, :, 2]\n",
    "            if cnt < 10:\n",
    "                x_test.append([r, g, b])\n",
    "                y_test.append([label])\n",
    "                cnt += 1\n",
    "            else:\n",
    "                x_train.append([r, g, b])\n",
    "                y_train.append([label])\n",
    "    label += 1"
   ]
  },
  {
   "cell_type": "code",
   "execution_count": 63,
   "id": "39e91ea4-b5b8-4062-8eb4-5743530b55fe",
   "metadata": {
    "tags": []
   },
   "outputs": [
    {
     "name": "stdout",
     "output_type": "stream",
     "text": [
      "453\n",
      "453\n",
      "30\n",
      "30\n"
     ]
    }
   ],
   "source": [
    "print(len(x_train))\n",
    "print(len(y_train))\n",
    "print(len(x_test))\n",
    "print(len(y_test))"
   ]
  },
  {
   "cell_type": "code",
   "execution_count": 64,
   "id": "2113539a-68ca-4a4a-80c0-38167cef3fb6",
   "metadata": {
    "tags": []
   },
   "outputs": [
    {
     "data": {
      "text/plain": [
       "(453, 100, 100, 3)"
      ]
     },
     "execution_count": 64,
     "metadata": {},
     "output_type": "execute_result"
    }
   ],
   "source": [
    "x_train = np.array(x_train).transpose(0, 2, 3, 1)\n",
    "y_train = np.array(y_train)\n",
    "x_test = np.array(x_test).transpose(0, 2, 3, 1)\n",
    "y_test = np.array(y_test)\n",
    "\n",
    "x_train.shape\n"
   ]
  },
  {
   "cell_type": "code",
   "execution_count": 65,
   "id": "f7009c35-55e1-4919-a407-94ad5eadeb3e",
   "metadata": {
    "tags": []
   },
   "outputs": [],
   "source": [
    "x_train = x_train.astype('float32')  # set x_train data type as float32\n",
    "x_test = x_test.astype('float32')  # set x_test data type as float32\n",
    "x_train /= 255  # change x_train value between 0 - 1\n",
    "x_test /= 255  # change x_test value between 0 - 1\n",
    "y_train = keras.utils.to_categorical(y_train, 3)  # change label to binary / categorical: [1 0 0 0] = 0, [0 1 0 0] = 1, so on\n",
    "y_test = keras.utils.to_categorical(y_test, 3)\n",
    "\n"
   ]
  },
  {
   "cell_type": "code",
   "execution_count": 68,
   "id": "72fdd5bf-f84f-4c20-ac84-02edce8e9b78",
   "metadata": {
    "tags": []
   },
   "outputs": [],
   "source": [
    "model = Sequential()\n",
    "model.add(Conv2D(32, kernel_size=(3, 3), activation='relu', input_shape=[100, 100, 3]))\n",
    "model.add(MaxPooling2D(pool_size=(2,2), padding='same')) #max pooling with stride (2,2)\n",
    "model.add(Conv2D(32, (3, 3), activation='relu')) #layer convolutional 2D\n",
    "model.add(MaxPooling2D(pool_size=(2,2))) #max pooling with stride (2,2)\n",
    "model.add(Dropout(0.25)) #delete neuron randomly while training and remain 75%\n",
    "model.add(Flatten()) #make layer flatten\n",
    "model.add(Dense(128, activation='relu')) #fully connected layer\n",
    "model.add(Dropout(0.5)) #delete neuron randomly and remain 50%\n",
    "model.add(Dense(3, activation='softmax')) #softmax works"
   ]
  },
  {
   "cell_type": "code",
   "execution_count": 69,
   "id": "0a25f012-6bdb-4440-a057-ff7befd18aaa",
   "metadata": {
    "tags": []
   },
   "outputs": [
    {
     "name": "stdout",
     "output_type": "stream",
     "text": [
      "Epoch 1/50\n",
      "23/23 [==============================] - 2s 70ms/step - loss: 0.0498 - accuracy: 0.9823 - val_loss: 0.0000e+00 - val_accuracy: 1.0000\n",
      "Epoch 2/50\n",
      "23/23 [==============================] - 1s 63ms/step - loss: 4.3420e-08 - accuracy: 1.0000 - val_loss: 0.0000e+00 - val_accuracy: 1.0000\n",
      "Epoch 3/50\n",
      "23/23 [==============================] - 1s 63ms/step - loss: 5.7894e-09 - accuracy: 1.0000 - val_loss: 0.0000e+00 - val_accuracy: 1.0000\n",
      "Epoch 4/50\n",
      "23/23 [==============================] - 1s 62ms/step - loss: 3.1579e-09 - accuracy: 1.0000 - val_loss: 0.0000e+00 - val_accuracy: 1.0000\n",
      "Epoch 5/50\n",
      "23/23 [==============================] - 1s 62ms/step - loss: 3.2105e-08 - accuracy: 1.0000 - val_loss: 0.0000e+00 - val_accuracy: 1.0000\n",
      "Epoch 6/50\n",
      "23/23 [==============================] - 1s 62ms/step - loss: 4.7368e-09 - accuracy: 1.0000 - val_loss: 0.0000e+00 - val_accuracy: 1.0000\n",
      "Epoch 7/50\n",
      "23/23 [==============================] - 1s 63ms/step - loss: 1.0526e-08 - accuracy: 1.0000 - val_loss: 0.0000e+00 - val_accuracy: 1.0000\n",
      "Epoch 8/50\n",
      "23/23 [==============================] - 1s 62ms/step - loss: 1.9737e-08 - accuracy: 1.0000 - val_loss: 0.0000e+00 - val_accuracy: 1.0000\n",
      "Epoch 9/50\n",
      "23/23 [==============================] - 1s 62ms/step - loss: 1.3158e-09 - accuracy: 1.0000 - val_loss: 0.0000e+00 - val_accuracy: 1.0000\n",
      "Epoch 10/50\n",
      "23/23 [==============================] - 1s 62ms/step - loss: 7.8946e-09 - accuracy: 1.0000 - val_loss: 0.0000e+00 - val_accuracy: 1.0000\n",
      "Epoch 11/50\n",
      "23/23 [==============================] - 1s 62ms/step - loss: 3.6842e-09 - accuracy: 1.0000 - val_loss: 0.0000e+00 - val_accuracy: 1.0000\n",
      "Epoch 12/50\n",
      "23/23 [==============================] - 1s 61ms/step - loss: 1.5789e-09 - accuracy: 1.0000 - val_loss: 0.0000e+00 - val_accuracy: 1.0000\n",
      "Epoch 13/50\n",
      "23/23 [==============================] - 1s 62ms/step - loss: 2.3684e-09 - accuracy: 1.0000 - val_loss: 0.0000e+00 - val_accuracy: 1.0000\n",
      "Epoch 14/50\n",
      "23/23 [==============================] - 1s 63ms/step - loss: 2.6316e-10 - accuracy: 1.0000 - val_loss: 0.0000e+00 - val_accuracy: 1.0000\n",
      "Epoch 15/50\n",
      "23/23 [==============================] - 1s 63ms/step - loss: 1.0526e-09 - accuracy: 1.0000 - val_loss: 0.0000e+00 - val_accuracy: 1.0000\n",
      "Epoch 16/50\n",
      "23/23 [==============================] - 1s 62ms/step - loss: 2.8947e-09 - accuracy: 1.0000 - val_loss: 0.0000e+00 - val_accuracy: 1.0000\n",
      "Epoch 17/50\n",
      "23/23 [==============================] - 1s 62ms/step - loss: 1.8421e-09 - accuracy: 1.0000 - val_loss: 0.0000e+00 - val_accuracy: 1.0000\n",
      "Epoch 18/50\n",
      "23/23 [==============================] - 1s 62ms/step - loss: 5.2631e-10 - accuracy: 1.0000 - val_loss: 0.0000e+00 - val_accuracy: 1.0000\n",
      "Epoch 19/50\n",
      "23/23 [==============================] - 1s 63ms/step - loss: 2.3684e-09 - accuracy: 1.0000 - val_loss: 0.0000e+00 - val_accuracy: 1.0000\n",
      "Epoch 20/50\n",
      "23/23 [==============================] - 1s 62ms/step - loss: 1.7631e-08 - accuracy: 1.0000 - val_loss: 0.0000e+00 - val_accuracy: 1.0000\n",
      "Epoch 21/50\n",
      "23/23 [==============================] - 1s 63ms/step - loss: 6.8420e-09 - accuracy: 1.0000 - val_loss: 0.0000e+00 - val_accuracy: 1.0000\n",
      "Epoch 22/50\n",
      "23/23 [==============================] - 1s 62ms/step - loss: 3.1579e-09 - accuracy: 1.0000 - val_loss: 0.0000e+00 - val_accuracy: 1.0000\n",
      "Epoch 23/50\n",
      "23/23 [==============================] - 1s 64ms/step - loss: 3.6315e-08 - accuracy: 1.0000 - val_loss: 0.0000e+00 - val_accuracy: 1.0000\n",
      "Epoch 24/50\n",
      "23/23 [==============================] - 1s 63ms/step - loss: 0.0000e+00 - accuracy: 1.0000 - val_loss: 0.0000e+00 - val_accuracy: 1.0000\n",
      "Epoch 25/50\n",
      "23/23 [==============================] - 1s 62ms/step - loss: 1.3158e-09 - accuracy: 1.0000 - val_loss: 0.0000e+00 - val_accuracy: 1.0000\n",
      "Epoch 26/50\n",
      "23/23 [==============================] - 1s 63ms/step - loss: 4.6578e-08 - accuracy: 1.0000 - val_loss: 0.0000e+00 - val_accuracy: 1.0000\n",
      "Epoch 27/50\n",
      "23/23 [==============================] - 1s 63ms/step - loss: 2.1052e-09 - accuracy: 1.0000 - val_loss: 0.0000e+00 - val_accuracy: 1.0000\n",
      "Epoch 28/50\n",
      "23/23 [==============================] - 1s 63ms/step - loss: 6.5789e-09 - accuracy: 1.0000 - val_loss: 0.0000e+00 - val_accuracy: 1.0000\n",
      "Epoch 29/50\n",
      "23/23 [==============================] - 1s 63ms/step - loss: 5.2631e-10 - accuracy: 1.0000 - val_loss: 0.0000e+00 - val_accuracy: 1.0000\n",
      "Epoch 30/50\n",
      "23/23 [==============================] - 1s 62ms/step - loss: 2.7105e-08 - accuracy: 1.0000 - val_loss: 0.0000e+00 - val_accuracy: 1.0000\n",
      "Epoch 31/50\n",
      "23/23 [==============================] - 1s 62ms/step - loss: 2.0000e-08 - accuracy: 1.0000 - val_loss: 0.0000e+00 - val_accuracy: 1.0000\n",
      "Epoch 32/50\n",
      "23/23 [==============================] - 1s 63ms/step - loss: 3.4210e-09 - accuracy: 1.0000 - val_loss: 0.0000e+00 - val_accuracy: 1.0000\n",
      "Epoch 33/50\n",
      "23/23 [==============================] - 1s 63ms/step - loss: 5.2631e-10 - accuracy: 1.0000 - val_loss: 0.0000e+00 - val_accuracy: 1.0000\n",
      "Epoch 34/50\n",
      "23/23 [==============================] - 1s 62ms/step - loss: 2.3684e-09 - accuracy: 1.0000 - val_loss: 0.0000e+00 - val_accuracy: 1.0000\n",
      "Epoch 35/50\n",
      "23/23 [==============================] - 1s 64ms/step - loss: 6.5789e-09 - accuracy: 1.0000 - val_loss: 0.0000e+00 - val_accuracy: 1.0000\n",
      "Epoch 36/50\n",
      "23/23 [==============================] - 1s 63ms/step - loss: 7.8947e-10 - accuracy: 1.0000 - val_loss: 0.0000e+00 - val_accuracy: 1.0000\n",
      "Epoch 37/50\n",
      "23/23 [==============================] - 1s 63ms/step - loss: 1.3684e-08 - accuracy: 1.0000 - val_loss: 0.0000e+00 - val_accuracy: 1.0000\n",
      "Epoch 38/50\n",
      "23/23 [==============================] - 2s 66ms/step - loss: 1.7368e-08 - accuracy: 1.0000 - val_loss: 0.0000e+00 - val_accuracy: 1.0000\n",
      "Epoch 39/50\n",
      "23/23 [==============================] - 1s 65ms/step - loss: 3.1579e-09 - accuracy: 1.0000 - val_loss: 0.0000e+00 - val_accuracy: 1.0000\n",
      "Epoch 40/50\n",
      "23/23 [==============================] - 1s 63ms/step - loss: 2.5263e-08 - accuracy: 1.0000 - val_loss: 0.0000e+00 - val_accuracy: 1.0000\n",
      "Epoch 41/50\n",
      "23/23 [==============================] - 1s 63ms/step - loss: 1.5789e-09 - accuracy: 1.0000 - val_loss: 0.0000e+00 - val_accuracy: 1.0000\n",
      "Epoch 42/50\n",
      "23/23 [==============================] - 1s 64ms/step - loss: 1.1052e-08 - accuracy: 1.0000 - val_loss: 0.0000e+00 - val_accuracy: 1.0000\n",
      "Epoch 43/50\n",
      "23/23 [==============================] - 1s 63ms/step - loss: 2.6316e-10 - accuracy: 1.0000 - val_loss: 0.0000e+00 - val_accuracy: 1.0000\n",
      "Epoch 44/50\n",
      "23/23 [==============================] - 1s 63ms/step - loss: 7.8947e-10 - accuracy: 1.0000 - val_loss: 0.0000e+00 - val_accuracy: 1.0000\n",
      "Epoch 45/50\n",
      "23/23 [==============================] - 1s 62ms/step - loss: 0.0000e+00 - accuracy: 1.0000 - val_loss: 0.0000e+00 - val_accuracy: 1.0000\n",
      "Epoch 46/50\n",
      "23/23 [==============================] - 2s 65ms/step - loss: 2.0526e-08 - accuracy: 1.0000 - val_loss: 0.0000e+00 - val_accuracy: 1.0000\n",
      "Epoch 47/50\n",
      "23/23 [==============================] - 1s 63ms/step - loss: 8.4210e-09 - accuracy: 1.0000 - val_loss: 0.0000e+00 - val_accuracy: 1.0000\n",
      "Epoch 48/50\n",
      "23/23 [==============================] - 1s 64ms/step - loss: 1.7736e-07 - accuracy: 1.0000 - val_loss: 0.0000e+00 - val_accuracy: 1.0000\n",
      "Epoch 49/50\n",
      "23/23 [==============================] - 1s 64ms/step - loss: 0.0000e+00 - accuracy: 1.0000 - val_loss: 0.0000e+00 - val_accuracy: 1.0000\n",
      "Epoch 50/50\n",
      "23/23 [==============================] - 1s 63ms/step - loss: 2.1052e-09 - accuracy: 1.0000 - val_loss: 0.0000e+00 - val_accuracy: 1.0000\n",
      "\n",
      "Testing loss: 0.0, acc: 1.0\n",
      "\n"
     ]
    }
   ],
   "source": [
    "model.compile(loss='categorical_crossentropy',\n",
    "              optimizer='adam',\n",
    "              metrics=['accuracy'])  # setting loss function and optimizer\n",
    "\n",
    "model.fit(x_train, y_train,\n",
    "          batch_size=20,\n",
    "          epochs=50,\n",
    "          verbose=1,\n",
    "          validation_data=(x_test, y_test)) #training with epochs 100, batch size = 50\n",
    "\n",
    "loss, acc = model.evaluate(x_test, y_test, verbose=0) #evaluate testing data and calculate loss and accuracy\n",
    "print('\\nTesting loss: {}, acc: {}\\n'.format(loss, acc))\n"
   ]
  },
  {
   "cell_type": "code",
   "execution_count": null,
   "id": "3a39e93b-2d20-4883-b99d-065716cb4182",
   "metadata": {},
   "outputs": [],
   "source": []
  }
 ],
 "metadata": {
  "kernelspec": {
   "display_name": "Python 3 (ipykernel)",
   "language": "python",
   "name": "python3"
  },
  "language_info": {
   "codemirror_mode": {
    "name": "ipython",
    "version": 3
   },
   "file_extension": ".py",
   "mimetype": "text/x-python",
   "name": "python",
   "nbconvert_exporter": "python",
   "pygments_lexer": "ipython3",
   "version": "3.10.10"
  }
 },
 "nbformat": 4,
 "nbformat_minor": 5
}
