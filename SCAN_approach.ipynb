{
 "cells": [
  {
   "cell_type": "code",
   "execution_count": 3,
   "id": "41a2ccd9-9c8d-439f-8758-a52e73b57e3a",
   "metadata": {},
   "outputs": [],
   "source": [
    "import matplotlib.pyplot as plt\n",
    "import numpy as np\n",
    "import pandas as pd\n",
    "import tensorflow as tf\n",
    "import tensorflow_io as tfio\n",
    "\n",
    "from sklearn.metrics import accuracy_score, precision_score, recall_score\n",
    "from sklearn.model_selection import train_test_split\n",
    "from tensorflow.keras import layers, losses\n",
    "from tensorflow.keras.datasets import fashion_mnist\n",
    "from tensorflow.keras.models import Model"
   ]
  },
  {
   "cell_type": "code",
   "execution_count": 2,
   "id": "3d7fea50-0b4b-40d8-9d00-bde258bbb7af",
   "metadata": {
    "tags": []
   },
   "outputs": [],
   "source": [
    "def parse_tiff(img_path: str):\n",
    "    \"\"\"Load an image and its annotation (mask) and returning\n",
    "    a dictionary.\n",
    "\n",
    "    Parameters\n",
    "    ----------\n",
    "    img_path : str\n",
    "        Image (not the mask) location.\n",
    "\n",
    "    Returns\n",
    "    -------\n",
    "    dict\n",
    "        Dictionary mapping an image and its annotation.\n",
    "    \"\"\"\n",
    "    image = tf.io.read_file(str(img_path))\n",
    "    image = tfio.experimental.image.decode_tiff(image)\n",
    "    image = tf.image.convert_image_dtype(image, tf.float32)\n",
    "\n",
    "    return image"
   ]
  },
  {
   "cell_type": "code",
   "execution_count": 4,
   "id": "5dbede21-9ad8-4f27-8b3d-d58111957f8f",
   "metadata": {
    "tags": []
   },
   "outputs": [],
   "source": [
    "TRAIN = \"./splited/train/tiles_test/\"\n",
    "VALID = \"./splited/val/tiles_test/\""
   ]
  },
  {
   "cell_type": "code",
   "execution_count": 13,
   "id": "4a7f80f8-4d25-4339-bd57-9e1f5d16584a",
   "metadata": {
    "tags": []
   },
   "outputs": [],
   "source": [
    "train_dataset = tf.data.Dataset.list_files(\"./splited/train/tiles_test/*.tif\", seed=1337)\n",
    "train_dataset = train_dataset.map(parse_tiff)\n",
    "train_dataset = train_dataset.shuffle(buffer_size=1024)\n",
    "train_dataset = train_dataset.batch(32)\n",
    "\n",
    "\n",
    "val_dataset = tf.data.Dataset.list_files(\"./splited/val/tiles_test/*.tif\", seed=1337)\n",
    "val_dataset = val_dataset.map(parse_tiff)"
   ]
  },
  {
   "cell_type": "code",
   "execution_count": 12,
   "id": "3f241ca4-97b1-4b5c-ac58-b39de0401f3c",
   "metadata": {
    "tags": []
   },
   "outputs": [
    {
     "name": "stdout",
     "output_type": "stream",
     "text": [
      "<class 'tensorflow.python.data.ops.shuffle_op._ShuffleDataset'>\n",
      "<class 'tensorflow.python.data.ops.map_op._MapDataset'>\n"
     ]
    }
   ],
   "source": [
    "print(type(train_dataset))\n",
    "print(type(val_dataset))"
   ]
  }
 ],
 "metadata": {
  "kernelspec": {
   "display_name": "Python 3 (ipykernel)",
   "language": "python",
   "name": "python3"
  },
  "language_info": {
   "codemirror_mode": {
    "name": "ipython",
    "version": 3
   },
   "file_extension": ".py",
   "mimetype": "text/x-python",
   "name": "python",
   "nbconvert_exporter": "python",
   "pygments_lexer": "ipython3",
   "version": "3.10.10"
  }
 },
 "nbformat": 4,
 "nbformat_minor": 5
}
