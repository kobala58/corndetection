{
 "cells": [
  {
   "cell_type": "markdown",
   "id": "68ca2a61-d70d-4517-8d8f-66d6e8e48258",
   "metadata": {},
   "source": [
    "## K-Means Clustering Approach\n",
    "\n",
    "### Idea\n",
    "\n",
    "In first we try  "
   ]
  }
 ],
 "metadata": {
  "kernelspec": {
   "display_name": "Python 3 (ipykernel)",
   "language": "python",
   "name": "python3"
  },
  "language_info": {
   "codemirror_mode": {
    "name": "ipython",
    "version": 3
   },
   "file_extension": ".py",
   "mimetype": "text/x-python",
   "name": "python",
   "nbconvert_exporter": "python",
   "pygments_lexer": "ipython3",
   "version": "3.10.10"
  }
 },
 "nbformat": 4,
 "nbformat_minor": 5
}
